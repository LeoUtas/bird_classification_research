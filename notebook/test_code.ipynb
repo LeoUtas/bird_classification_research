{
 "cells": [
  {
   "cell_type": "code",
   "execution_count": null,
   "metadata": {},
   "outputs": [],
   "source": [
    "import os, sys, json\n",
    "sys.path.append(\"../\")  # add parent directory to the system path\n",
    "from utils_data import *\n",
    "from utils_model import *\n"
   ]
  },
  {
   "cell_type": "code",
   "execution_count": null,
   "metadata": {},
   "outputs": [],
   "source": [
    "# load the saved best model\n",
    "best_model_0 = tf.keras.models.load_model(\n",
    "    \"save_best_models/best_model_mobilenet_test17.h5\"\n",
    ")\n",
    "\n",
    "\n",
    "file_path = \"/home/hoangng/Projects/Bird_classification/Research/output/data\"\n",
    "file_name = \"model_performance_log_mobilenet_finetune5.json\"\n",
    "full_path = os.path.join(file_path, file_name)\n",
    "\n",
    "with open(full_path, \"r\") as file:\n",
    "    metrics = json.load(file)"
   ]
  },
  {
   "cell_type": "code",
   "execution_count": null,
   "metadata": {},
   "outputs": [],
   "source": [
    "nrows = len(metrics)\n",
    "ncols = 2\n",
    "width = 10\n",
    "height = nrows * width / ncols\n",
    "figure = visualize_metric(metrics, nrows=nrows, ncols=ncols, figsize=(width, height))"
   ]
  },
  {
   "cell_type": "code",
   "execution_count": null,
   "metadata": {},
   "outputs": [],
   "source": [
    "# assign the last 10 layers to be trainable\n",
    "last_10_layers = model_0.layers[-15:]\n",
    "for layer in last_10_layers:\n",
    "    layer.trainable = True\n",
    "\n",
    "\n",
    "# recompile the model to apply fine tuning changes\n",
    "model_0.compile(\n",
    "    loss=\"categorical_crossentropy\",\n",
    "    optimizer=tf.keras.optimizers.Adam(learning_rate=.001 * 0.1),\n",
    "    metrics=[\"accuracy\"],\n",
    ")\n",
    "\n",
    "model_0.summary()"
   ]
  },
  {
   "cell_type": "code",
   "execution_count": null,
   "metadata": {},
   "outputs": [],
   "source": [
    "# path = \"/home/hoangng/Projects/Bird_classification/Research/output/data/\"\n",
    "# file_name = \"model_performance_log_mobilenet_finetune4.json\"\n",
    "\n",
    "metrics = {\n",
    "    'Model1': {\n",
    "        'train_accuracy': [0.5, 0.6, 0.7],\n",
    "        'val_accuracy': [0.4, 0.5, 0.6],\n",
    "        'test_accuracy': 0.7,\n",
    "        'train_loss': [0.7, 0.6, 0.5],\n",
    "        'val_loss': [0.6, 0.5, 0.4],\n",
    "        'execution_time': 180\n",
    "    }\n",
    "}\n",
    "\n",
    "# loaded_metrics = load_dict_from_json(file_name, path)\n",
    "nrows = 1\n",
    "ncols = 2\n",
    "width = 10\n",
    "height = nrows * width/ncols\n",
    "print(nrows)\n",
    "\n",
    "figure = visualize_metric(metrics, nrows=nrows, ncols=ncols, figsize=(width, height))"
   ]
  }
 ],
 "metadata": {
  "kernelspec": {
   "display_name": "tf",
   "language": "python",
   "name": "python3"
  },
  "language_info": {
   "codemirror_mode": {
    "name": "ipython",
    "version": 3
   },
   "file_extension": ".py",
   "mimetype": "text/x-python",
   "name": "python",
   "nbconvert_exporter": "python",
   "pygments_lexer": "ipython3",
   "version": "3.9.18"
  },
  "orig_nbformat": 4
 },
 "nbformat": 4,
 "nbformat_minor": 2
}
