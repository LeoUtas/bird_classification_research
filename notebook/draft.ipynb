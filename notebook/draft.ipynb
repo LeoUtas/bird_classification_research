{
 "cells": [
  {
   "cell_type": "code",
   "execution_count": null,
   "metadata": {},
   "outputs": [],
   "source": [
    "import os\n",
    "from pathlib import Path\n",
    "import cv2 as cv \n",
    "import numpy as np \n",
    "import pandas as pd\n",
    "import matplotlib.pyplot as plt \n",
    "import tensorflow as tf\n",
    "from tensorflow.keras.optimizers import Adam\n",
    "from tensorflow.keras.layers import Dense, Flatten, Conv2D, MaxPooling2D, Activation, BatchNormalization, Dropout\n",
    "from tensorflow.keras.preprocessing.image import ImageDataGenerator\n",
    "from tensorflow.keras import Sequential"
   ]
  },
  {
   "cell_type": "code",
   "execution_count": null,
   "metadata": {},
   "outputs": [],
   "source": [
    "# make paths\n",
    "current_path = os.getcwd()\n",
    "train_path = Path( os.path.join(( os.path.dirname(os.path.dirname(current_path)) ), \"Research\", \"data\", \"train\") )\n",
    "test_path = Path( os.path.join(( os.path.dirname(os.path.dirname(current_path)) ), \"Research\", \"data\", \"test\") )\n",
    "valid_path = Path( os.path.join(( os.path.dirname(os.path.dirname(current_path)) ), \"Research\", \"data\", \"valid\") )"
   ]
  },
  {
   "cell_type": "code",
   "execution_count": null,
   "metadata": {},
   "outputs": [],
   "source": [
    "# check the number of classes (i.e., number of species) in train, test and validation datasets\n",
    "number_of_classes = len(os.listdir(train_path))\n",
    "print(number_of_classes)\n",
    "number_of_classes = len(os.listdir(test_path))\n",
    "print(number_of_classes)\n",
    "number_of_classes = len(os.listdir(valid_path))\n",
    "print(number_of_classes)"
   ]
  },
  {
   "cell_type": "code",
   "execution_count": null,
   "metadata": {},
   "outputs": [],
   "source": [
    "# prepare for visualizing the images\n",
    "image_files = [f for bird_species in train_path.iterdir() for f in bird_species.glob('*.jpg')]\n",
    "image_df = pd.DataFrame({\n",
    "    'Filepath': image_files,\n",
    "    'Label': [f.parent.name for f in image_files]  # using the parent folder name as label\n",
    "})"
   ]
  },
  {
   "cell_type": "code",
   "execution_count": null,
   "metadata": {},
   "outputs": [],
   "source": [
    "# read in the CSV file\n",
    "birds_df = pd.read_csv(os.path.join(os.path.dirname(train_path), \"birds.csv\"))\n",
    "labels_to_scientific_name = dict(zip(birds_df['labels'], birds_df['scientific name']))"
   ]
  },
  {
   "cell_type": "code",
   "execution_count": null,
   "metadata": {},
   "outputs": [],
   "source": [
    "# visualize 16 random images\n",
    "random_index = np.random.randint(0, len(image_df), 16)\n",
    "fig, axes = plt.subplots(nrows=4, ncols=4, figsize=(12, 12),\n",
    "                        subplot_kw={'xticks': [], 'yticks': []})\n",
    "\n",
    "for i, ax in enumerate(axes.flat):\n",
    "    ax.imshow(plt.imread(image_df.Filepath.iloc[random_index[i]]))\n",
    "    \n",
    "    # fetch the scientific name using the label and the created dictionary\n",
    "    label = image_df.Label.iloc[random_index[i]]\n",
    "    scientific_name = labels_to_scientific_name.get(label, \"Unknown\")    \n",
    "    ax.set_title(f\"{label}\\n({scientific_name})\")  # display both common and scientific names\n",
    "    \n",
    "plt.tight_layout()\n",
    "plt.show()"
   ]
  },
  {
   "cell_type": "code",
   "execution_count": null,
   "metadata": {},
   "outputs": [],
   "source": [
    "DataGenerator = ImageDataGenerator(rescale=1./255)"
   ]
  },
  {
   "cell_type": "code",
   "execution_count": null,
   "metadata": {},
   "outputs": [],
   "source": [
    "train_data = DataGenerator.flow_from_directory(train_path, target_size=(224,224),batch_size=32,class_mode='categorical')\n",
    "test_data = DataGenerator.flow_from_directory(test_path, target_size=(224,224),batch_size=32,class_mode='categorical')\n",
    "valid_data = DataGenerator.flow_from_directory(valid_path, target_size=(224,224),batch_size=32,class_mode='categorical')"
   ]
  },
  {
   "cell_type": "code",
   "execution_count": null,
   "metadata": {},
   "outputs": [],
   "source": [
    "# base_model = tf.keras.applications.InceptionV3(weights='imagenet', include_top= False,)\n",
    "# base_model = tf.keras.applications.InceptionV3(weights='imagenet', include_top=False, input_shape=(224,224,3))"
   ]
  },
  {
   "cell_type": "markdown",
   "metadata": {},
   "source": [
    "### Config the base model"
   ]
  },
  {
   "cell_type": "code",
   "execution_count": null,
   "metadata": {},
   "outputs": [],
   "source": [
    "base_model = tf.keras.applications.InceptionV3(include_top=False, weights='imagenet')\n",
    "base_model.trainable = False\n",
    "inputs = tf.keras.layers.Input(shape=(224,224,3), name=\"input-layer\")\n",
    "X = base_model(inputs)\n",
    "X = tf.keras.layers.GlobalAveragePooling2D(name=\"global_average_pooling_layer\")(X)\n",
    "outputs = tf.keras.layers.Dense(524, activation=\"softmax\", name=\"output-layer\")(X)\n",
    "model_0 = tf.keras.Model(inputs, outputs)"
   ]
  },
  {
   "cell_type": "code",
   "execution_count": null,
   "metadata": {},
   "outputs": [],
   "source": [
    "# base_model.trainable = False"
   ]
  },
  {
   "cell_type": "code",
   "execution_count": null,
   "metadata": {},
   "outputs": [],
   "source": [
    "# inputs = tf.keras.layers.Input(shape =(224,224,3), name = \"input-layer\")"
   ]
  },
  {
   "cell_type": "code",
   "execution_count": null,
   "metadata": {},
   "outputs": [],
   "source": [
    "# X = base_model(inputs)\n",
    "# print(f\"Shape after passing inputs through base model: {X.shape}\")"
   ]
  },
  {
   "cell_type": "code",
   "execution_count": null,
   "metadata": {},
   "outputs": [],
   "source": [
    "# X = tf.keras.layers.GlobalAveragePooling2D(name = \"global_average_pooling_layer\")(X)\n",
    "# print(f\"Shape after GlobalAveragePooling2D: {X.shape}\")"
   ]
  },
  {
   "cell_type": "code",
   "execution_count": null,
   "metadata": {},
   "outputs": [],
   "source": [
    "# outputs = tf.keras.layers.Dense(524, activation = \"softmax\", name = \"output-layer\")(X)"
   ]
  },
  {
   "cell_type": "code",
   "execution_count": null,
   "metadata": {},
   "outputs": [],
   "source": [
    "# model_0 = tf.keras.Model(inputs, outputs)"
   ]
  },
  {
   "cell_type": "code",
   "execution_count": null,
   "metadata": {},
   "outputs": [],
   "source": [
    "model_0.compile(loss = \"categorical_crossentropy\",\n",
    "                optimizer = tf.keras.optimizers.Adam(learning_rate = 0.01),\n",
    "                metrics = [\"accuracy\"])"
   ]
  },
  {
   "cell_type": "code",
   "execution_count": null,
   "metadata": {},
   "outputs": [],
   "source": [
    "model_0.summary()"
   ]
  },
  {
   "cell_type": "code",
   "execution_count": null,
   "metadata": {},
   "outputs": [],
   "source": [
    "history = model_0.fit(train_data,\n",
    "                      epochs=10,\n",
    "                      steps_per_epoch = len(train_data),\n",
    "                      validation_data = valid_data,\n",
    "                      validation_steps = int(0.25*len(valid_data)),)"
   ]
  },
  {
   "cell_type": "code",
   "execution_count": null,
   "metadata": {},
   "outputs": [],
   "source": [
    "model_0.evaluate(test_data)"
   ]
  },
  {
   "cell_type": "markdown",
   "metadata": {},
   "source": [
    "### Fine tune the model"
   ]
  },
  {
   "cell_type": "code",
   "execution_count": null,
   "metadata": {},
   "outputs": [],
   "source": [
    "base_model.trainable = True\n",
    "\n",
    "# Un-freeze last 10 layers\n",
    "for layer in base_model.layers[:-10]:\n",
    "    layer.trainable = False"
   ]
  },
  {
   "cell_type": "code",
   "execution_count": null,
   "metadata": {},
   "outputs": [],
   "source": [
    "# Recompile\n",
    "model_0.compile(loss = \"categorical_crossentropy\",\n",
    "                optimizer = tf.keras.optimizers.Adam(learning_rate = 0.001),\n",
    "                metrics = [\"accuracy\"] )"
   ]
  },
  {
   "cell_type": "code",
   "execution_count": null,
   "metadata": {},
   "outputs": [],
   "source": [
    "print(len(model_0.trainable_variables))"
   ]
  },
  {
   "cell_type": "code",
   "execution_count": null,
   "metadata": {},
   "outputs": [],
   "source": [
    "initial_epochs = 10\n",
    "fine_tune_epochs = initial_epochs + 1\n",
    "\n",
    "# Refit the model\n",
    "history_2 = model_0.fit(train_data,\n",
    "                        epochs = fine_tune_epochs,\n",
    "                        validation_data = valid_data,\n",
    "                        validation_steps = int(0.25*len(valid_data)),\n",
    "                        initial_epoch =  history.epoch[-1],) # start the epoch where it left before"
   ]
  },
  {
   "cell_type": "code",
   "execution_count": null,
   "metadata": {},
   "outputs": [],
   "source": [
    "model_0.evaluate(test_data)"
   ]
  },
  {
   "cell_type": "code",
   "execution_count": null,
   "metadata": {},
   "outputs": [],
   "source": [
    "import tensorflow as tf\n",
    "print(\"Num GPUs Available: \", len(tf.config.list_physical_devices('GPU')))\n"
   ]
  },
  {
   "cell_type": "code",
   "execution_count": null,
   "metadata": {},
   "outputs": [],
   "source": [
    "tf.config.list_physical_devices('GPU')"
   ]
  },
  {
   "cell_type": "code",
   "execution_count": null,
   "metadata": {},
   "outputs": [],
   "source": [
    "import sys\n",
    "\n",
    "sys.path.append(\"../\")  # add parent directory to the system path\n",
    "from utils_data import *\n",
    "from utils_model import *\n",
    "from utils_YOLOv8 import *\n",
    "from ultralytics import  YOLO"
   ]
  },
  {
   "cell_type": "code",
   "execution_count": null,
   "metadata": {},
   "outputs": [],
   "source": [
    "path_to_image = \"../input/data/real_imgs/001.jpg\"\n",
    "\n",
    "detect_model = YOLO(\"yolov8n.pt\")\n",
    "results = detect_model(path_to_image, show=False, save=False)\n",
    "bboxes = results[0].boxes.xyxy.cpu().numpy().reshape(-1, 4)\n",
    "print(bboxes)\n",
    "\n",
    "if bboxes.size ==0:\n",
    "    print(\"true\")"
   ]
  },
  {
   "cell_type": "code",
   "execution_count": null,
   "metadata": {},
   "outputs": [],
   "source": [
    "path_to_chosen_model = (\"../models/YOLOv8/test0/train/weights/last.pt\")\n",
    "# model = YOLO(\"yolov8n-cls.pt\")\n",
    "model = YOLO(path_to_chosen_model)\n",
    "# Export the model\n",
    "# model.export(format=\"onnx\")"
   ]
  },
  {
   "cell_type": "code",
   "execution_count": null,
   "metadata": {},
   "outputs": [],
   "source": [
    "path_to_image = (\"../input/data/test/ALBATROSS/1.jpg\")\n",
    "path_to_chosen_model = (\"../models/YOLOv8/test0/train/weights/last.onnx\")\n",
    "model = YOLO(path_to_chosen_model)\n",
    "results = model(path_to_image)"
   ]
  }
 ],
 "metadata": {
  "kernelspec": {
   "display_name": "Python 3",
   "language": "python",
   "name": "python3"
  },
  "language_info": {
   "codemirror_mode": {
    "name": "ipython",
    "version": 3
   },
   "file_extension": ".py",
   "mimetype": "text/x-python",
   "name": "python",
   "nbconvert_exporter": "python",
   "pygments_lexer": "ipython3",
   "version": "3.11.5"
  },
  "orig_nbformat": 4
 },
 "nbformat": 4,
 "nbformat_minor": 2
}
