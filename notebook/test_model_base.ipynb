{
 "cells": [
  {
   "cell_type": "code",
   "execution_count": null,
   "metadata": {},
   "outputs": [],
   "source": [
    "import sys\n",
    "sys.path.append(\"../\")  # add parent directory to the system path\n",
    "from utils_data import *\n",
    "from utils_model import *\n",
    "from tensorflow.keras.preprocessing.image import ImageDataGenerator\n",
    "from time import time"
   ]
  },
  {
   "cell_type": "code",
   "execution_count": null,
   "metadata": {},
   "outputs": [],
   "source": [
    "# get the data ready\n",
    "root_name = \"Research\"\n",
    "train_path, test_path, val_path = make_data_path(root_name=root_name)\n",
    "\n",
    "DataGenerator = ImageDataGenerator(rescale=1.0 / 255)\n",
    "train_data, test_data, val_data = make_data_ready(\n",
    "    DataGenerator, train_path, test_path, val_path\n",
    ")"
   ]
  },
  {
   "cell_type": "code",
   "execution_count": null,
   "metadata": {},
   "outputs": [],
   "source": [
    "# ________________ CONFIG THE BASE MODELS ________________ #\n",
    "weights = \"imagenet\"\n",
    "input_shape = (224, 224, 3)\n",
    "num_class = 524\n",
    "\n",
    "include_top = False\n",
    "base_trainable = False\n",
    "pooling = \"max\"\n",
    "learning_rate = 0.1\n",
    "epochs = 1\n",
    "\n",
    "\n",
    "model_funcs = [\n",
    "    tf.keras.applications.inception_v3.InceptionV3,\n",
    "    tf.keras.applications.resnet50.ResNet50,\n",
    "    tf.keras.applications.mobilenet.MobileNet,\n",
    "    tf.keras.applications.mobilenet_v2.MobileNetV2,\n",
    "    tf.keras.applications.efficientnet.EfficientNetB0,\n",
    "    tf.keras.applications.efficientnet_v2.EfficientNetV2B0,\n",
    "]\n",
    "\n",
    "model_0s = {}\n",
    "\n",
    "for model_func in model_funcs:\n",
    "    model_name = model_func.__name__\n",
    "\n",
    "    model_0s[model_name] = configure_model_base(\n",
    "        model_func=model_func,\n",
    "        weights=weights,\n",
    "        include_top=False,\n",
    "        base_trainable=False,\n",
    "        input_shape=input_shape,\n",
    "        pooling=pooling,\n",
    "        num_class=num_class,\n",
    "        learning_rate=learning_rate,\n",
    "    )"
   ]
  },
  {
   "cell_type": "code",
   "execution_count": null,
   "metadata": {},
   "outputs": [],
   "source": [
    "# ________________ TEST TRAIN THE BASE MODELS ________________ #\n",
    "history = {}\n",
    "metrics = {}\n",
    "\n",
    "for model_name, model_0 in model_0s.items():\n",
    "    # train the models\n",
    "\n",
    "    start_time = time()\n",
    "\n",
    "    history[model_name] = model_0.fit(\n",
    "        train_data,\n",
    "        epochs=epochs,\n",
    "        steps_per_epoch=len(train_data),\n",
    "        validation_data=val_data,\n",
    "        validation_steps=int(0.25 * len(val_data)),\n",
    "    )\n",
    "\n",
    "    end_time = time()\n",
    "    execution_time = end_time - start_time\n",
    "\n",
    "    # save metrics for the models\n",
    "    metrics[model_name] = {\n",
    "        \"train_loss\": history[model_name].history[\"loss\"],\n",
    "        \"train_accuracy\": history[model_name].history[\"accuracy\"],\n",
    "        \"val_loss\": history[model_name].history[\"val_loss\"],\n",
    "        \"val_accuracy\": history[model_name].history[\"val_accuracy\"],\n",
    "        \"execution_time\": execution_time,\n",
    "    }\n",
    "\n",
    "    # evaluate the model on test data and save the results\n",
    "    test_loss, test_accuracy = model_0.evaluate(test_data)\n",
    "    metrics[model_name][\"test_loss\"] = test_loss\n",
    "    metrics[model_name][\"test_accuracy\"] = test_accuracy"
   ]
  },
  {
   "cell_type": "code",
   "execution_count": null,
   "metadata": {},
   "outputs": [],
   "source": [
    "file_path = \"../output/data\"\n",
    "file_name = \"model_performance_log.json\"\n",
    "save_metric(metrics, file_name, file_path)"
   ]
  },
  {
   "cell_type": "code",
   "execution_count": null,
   "metadata": {},
   "outputs": [],
   "source": [
    "file_path = \"../output/data\"\n",
    "file_name = \"model_performance_mobilenet_finetune2.json\"\n",
    "\n",
    "loaded_metrics = load_dict_from_json(file_name, file_path)\n",
    "\n",
    "nrows = 6\n",
    "ncols = 2\n",
    "width = 10\n",
    "height = nrows * width/ncols\n",
    "\n",
    "figure = visualize_metric(loaded_metrics, nrows=nrows, ncols=ncols, figsize=(width, height))\n",
    "# save_plot(figure, file_name, file_path)"
   ]
  }
 ],
 "metadata": {
  "kernelspec": {
   "display_name": "tf",
   "language": "python",
   "name": "python3"
  },
  "language_info": {
   "codemirror_mode": {
    "name": "ipython",
    "version": 3
   },
   "file_extension": ".py",
   "mimetype": "text/x-python",
   "name": "python",
   "nbconvert_exporter": "python",
   "pygments_lexer": "ipython3",
   "version": "3.9.18"
  },
  "orig_nbformat": 4
 },
 "nbformat": 4,
 "nbformat_minor": 2
}
